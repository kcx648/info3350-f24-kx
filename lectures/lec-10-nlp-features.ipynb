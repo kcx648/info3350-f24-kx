{
 "cells": [
  {
   "cell_type": "markdown",
   "metadata": {},
   "source": [
    "## INFO 3350/6350\n",
    "\n",
    "## Lecture 10: Feature expansion and natural language processing (NLP)"
   ]
  },
  {
   "cell_type": "markdown",
   "metadata": {},
   "source": [
    "## What we want from our features\n",
    "\n",
    "* Sometimes we want to move from specific words to higher-level categories in order to achieve **better classification or similarity results**\n",
    "    * Here, we can be pragmatic. What features produce the best results?\n",
    "    * This is an engineering problem\n",
    "    * But we may still care about explainability\n",
    "* Sometimes we move from words to concepts because we care about the **concepts themselves**\n",
    "    * In this case, explainability is really important\n",
    "    * We need to understand how our features capture (or fail to capture) the concepts we care about\n",
    "* And sometimes, we want to incorporate **paratextual features**, that is, features that are *about* a book, but aren't *in* the book, strictly speaking\n",
    "    * Author identity, gender, publication date, national origin, genre, market success, etc.\n",
    "\n",
    "**Today: look (a little bit) into non-unigram feature types that may help us in each of these cases**\n",
    "\n",
    "## There's more to life than token unigrams\n",
    "\n",
    "* Most of our work so far has used counts of **token unigrams** (that is, individual words) to characterize texts\n",
    "* This is non-crazy!\n",
    "    * The words in a book tell us a lot about that book\n",
    "* But we often care less about words than we do about the classes of things those words represent\n",
    "    * Words are often just the most straightforward way to capture ideas, subject matter, types of action, chacaterization, etc.\n",
    "* There are additional ways to capture these higher-level concerns\n",
    "    * ***n*-grams** and **noun phrases** capture multi-word sequences like \"best friend\" and \"New York\"\n",
    "    * **Lemmatization** collapses specific word forms into a single root (\"running\" -> \"run\", \"cats\" -> \"cat\")\n",
    "    * **Part of speech** tagging collapses words into their linguistic functions (noun, verb, adjective, preposition, etc.)\n",
    "    * **Named entity recognition** identifies named entities (people, organizations, places, etc.)\n",
    "    * Several different approaches to identifying **subject matter**\n",
    "        * Topic models\n",
    "        * Latent Semantic Analysis (LSA), which we've already seen, in a different context, as SVD\n",
    "        * Coming up: word embeddings\n",
    "* Can think of **all** these methods as potential *dimension reduction* techniques: we use far more words than we have truly distinct concepts\n",
    "    \n",
    "## *n*-grams\n",
    "\n",
    "* ***n*-grams** are sequences of some number of words that occur one after another in a text\n",
    "* '*n*' represents the number of consecutive words.\n",
    "    * *n*=1 is called a unigram. We've used these extensively already.\n",
    "    * *n*=2 is a bigram, 3=trigram, etc.\n",
    "\n",
    "Note a useful tool: [Google Books Ngram Viewer](https://books.google.com/ngrams). Also, [see a sample](https://books.google.com/ngrams/interactive_chart?content=Great+War%2CWorld+War+I%2CWorld+War+II&year_start=1800&year_end=2019&corpus=27&smoothing=3&direct_url=t1%3B%2CGreat+War%3B%2Cc0%3B.t1%3B%2CWorld+War+I%3B%2Cc0%3B.t1%3B%2CWorld+War+II%3B%2Cc0) that demonstrates an interesting historical issue.\n",
    "\n",
    "Of course, **be careful when considering historical use of words and phrases**. Consider semantic drift (changes in a word's meaning over time), orthographic issues like the (archaic) long 's', and the general sense in which published books do no represent all of a society in real time. But these are issues we always face! \n",
    "\n",
    "We can do this, too. As ever, we can count sequences of words by hand. But `sklearn`'s vectorizers make it easy to add *n*-gram features:"
   ]
  },
  {
   "cell_type": "code",
   "execution_count": 1,
   "metadata": {
    "tags": []
   },
   "outputs": [
    {
     "data": {
      "text/html": [
       "<div>\n",
       "<style scoped>\n",
       "    .dataframe tbody tr th:only-of-type {\n",
       "        vertical-align: middle;\n",
       "    }\n",
       "\n",
       "    .dataframe tbody tr th {\n",
       "        vertical-align: top;\n",
       "    }\n",
       "\n",
       "    .dataframe thead th {\n",
       "        text-align: right;\n",
       "    }\n",
       "</style>\n",
       "<table border=\"1\" class=\"dataframe\">\n",
       "  <thead>\n",
       "    <tr style=\"text-align: right;\">\n",
       "      <th></th>\n",
       "      <th>ada lovelace</th>\n",
       "      <th>cats dogs</th>\n",
       "      <th>dogs friends</th>\n",
       "      <th>grew new</th>\n",
       "      <th>lovelace united</th>\n",
       "      <th>new york</th>\n",
       "      <th>united kingdom</th>\n",
       "    </tr>\n",
       "  </thead>\n",
       "  <tbody>\n",
       "    <tr>\n",
       "      <th>0</th>\n",
       "      <td>0</td>\n",
       "      <td>0</td>\n",
       "      <td>0</td>\n",
       "      <td>1</td>\n",
       "      <td>0</td>\n",
       "      <td>1</td>\n",
       "      <td>0</td>\n",
       "    </tr>\n",
       "    <tr>\n",
       "      <th>1</th>\n",
       "      <td>1</td>\n",
       "      <td>0</td>\n",
       "      <td>0</td>\n",
       "      <td>0</td>\n",
       "      <td>1</td>\n",
       "      <td>0</td>\n",
       "      <td>1</td>\n",
       "    </tr>\n",
       "    <tr>\n",
       "      <th>2</th>\n",
       "      <td>0</td>\n",
       "      <td>1</td>\n",
       "      <td>1</td>\n",
       "      <td>0</td>\n",
       "      <td>0</td>\n",
       "      <td>0</td>\n",
       "      <td>0</td>\n",
       "    </tr>\n",
       "  </tbody>\n",
       "</table>\n",
       "</div>"
      ],
      "text/plain": [
       "   ada lovelace  cats dogs  dogs friends  grew new  lovelace united  new york  \\\n",
       "0             0          0             0         1                0         1   \n",
       "1             1          0             0         0                1         0   \n",
       "2             0          1             1         0                0         0   \n",
       "\n",
       "   united kingdom  \n",
       "0               0  \n",
       "1               1  \n",
       "2               0  "
      ]
     },
     "metadata": {},
     "output_type": "display_data"
    }
   ],
   "source": [
    "import pandas as pd\n",
    "from   sklearn.feature_extraction.text import CountVectorizer\n",
    "\n",
    "sentences = [\n",
    "    \"I grew up in New York\",\n",
    "    \"Ada Lovelace was from the United Kingdom\",\n",
    "    \"Cats and dogs can be friends\"\n",
    "]\n",
    "\n",
    "vectorizer = CountVectorizer(\n",
    "    lowercase=True,\n",
    "    stop_words='english',\n",
    "    ngram_range=(2,2) # <- retain bigrams (alone) after stopword removal\n",
    ")\n",
    "\n",
    "features = vectorizer.fit_transform(sentences).todense()\n",
    "\n",
    "# Create a dataframe for easy display\n",
    "df = pd.DataFrame(features, columns=vectorizer.get_feature_names_out())\n",
    "display(df)"
   ]
  },
  {
   "cell_type": "markdown",
   "metadata": {},
   "source": [
    "* Note that we've removed stopwords and retained bigrams (2-grams) only\n",
    "* We could also retain any range of *n*-grams, including unigrams\n",
    "    * In fact, `CountVectorizer` by default uses `ngram_range=(1,1)`\n",
    "* Bigrams can feel like they capture people, places, and other named entities or noun phrases, but there are better ways to accomplish those specific tasks\n",
    "* Still, *n*-grams can be useful features\n",
    "    * Unlike the NLP-derived features discussed below -- which generally reduce the dimensionality of our data -- using *n*-gram features tends to increase dimensionality\n",
    "    * Beware rapidly expanding feature matrices, especially with *n*>2\n"
   ]
  },
  {
   "cell_type": "markdown",
   "metadata": {},
   "source": [
    "# Classic NLP tasks with `spaCy`\n",
    "\n",
    "* **Lemmatization, part of speech tagging, named entity recognition, noun phrase detection, dependency parsing**, etc.\n",
    "* Pretty much all of these involve using text sequence information and hand-labeled training data to learn how to predict the class to which a token belongs\n",
    "    * By \"text sequence information,\" we mean that for each token in order as we move through a text, we look at one or more tokens before or after that token in order to infer things about it\n",
    "    * In general, we are trying to produce the label with the maximum likelihood, given what we know about the labels of the tokens around our target token\n",
    "* NLP is a big subject\n",
    "    * In the near term, see [Jurafsky and Martin](https://web.stanford.edu/~jurafsky/slp3/), especially [ch. 17](https://web.stanford.edu/~jurafsky/slp3/17.pdf) as (optionally) assigned for today\n",
    "    * In the longer run, consider taking a class with another of the [Cornell NLP faculty members](https://nlp.cornell.edu/people/)\n",
    "* Several packages to accomplish many NLP tasks. Two widely used ones for Python:\n",
    "    * NLTK (Natural Language ToolKit) is a classic in Python\n",
    "        * We used its sentence splitting and word tokenization features earlier in the course\n",
    "        * Pros: easy, pythonic\n",
    "        * Cons: slow, not state-of-the-art performance\n",
    "    * SpaCy\n",
    "        * Newer, neural-network based\n",
    "        * Good speed and performance\n",
    "        * Pretty easy to use\n",
    "      \n",
    "### Install `spaCy` and associated data\n",
    "\n",
    "Only need to do this once for your installation, not every (subsequent) time you use the library. You should have it already if you installed the [course package set](https://github.com/wilkens-teaching/info3350-f24/tree/main/setup). If not, you'll need to run:\n",
    "\n",
    "```\n",
    "conda install -c conda-forge spacy -y\n",
    "python -m spacy download en_core_web_sm\n",
    "python -m spacy download en_core_web_lg\n",
    "```"
   ]
  },
  {
   "cell_type": "markdown",
   "metadata": {},
   "source": [
    "### Some NLP basics"
   ]
  },
  {
   "cell_type": "code",
   "execution_count": 2,
   "metadata": {
    "tags": []
   },
   "outputs": [
    {
     "name": "stdout",
     "output_type": "stream",
     "text": [
      "Cornell is a private, Ivy League university and the land-grant university for New York state.\n",
      "<class 'spacy.tokens.doc.Doc'>\n",
      "['Cornell', 'is', 'a', 'private', ',', 'Ivy', 'League', 'university', 'and', 'the', 'land', '-', 'grant', 'university', 'for', 'New', 'York', 'state', '.']\n"
     ]
    }
   ],
   "source": [
    "# Imports\n",
    "import spacy\n",
    "\n",
    "# Load spaCy model\n",
    "nlp = spacy.load('en_core_web_sm')\n",
    "\n",
    "# Sample sentence\n",
    "cornell = 'Cornell is a private, Ivy League university and the land-grant university for New York state.'\n",
    "\n",
    "# Process the document\n",
    "doc = nlp(cornell)\n",
    "\n",
    "# Examine the processed document\n",
    "print(doc)\n",
    "print(type(doc))\n",
    "print([token.text for token in doc])"
   ]
  },
  {
   "cell_type": "markdown",
   "metadata": {},
   "source": [
    "#### Tokens, POS tags, dependency\n",
    "\n",
    "Note that SpaCy's model gives us tokens (among other things), each of which has properties attached to it. So, if we want to know what a token is (that is, what its text is), we refer to `token.text` (assuming our token is stored in a variable named `token`). If we want its part of speech, that's `token.pos_`. Its lemma: `token.lemma_`.\n",
    "\n",
    "Note that these POS tags are a reduced set (called UPOS). If you want the full Penn Treebank tagset, see the example below."
   ]
  },
  {
   "cell_type": "code",
   "execution_count": 3,
   "metadata": {
    "tags": []
   },
   "outputs": [
    {
     "name": "stdout",
     "output_type": "stream",
     "text": [
      "     Cornell       PROPN       nsubj\n",
      "          is         AUX        ROOT\n",
      "           a         DET         det\n",
      "     private         ADJ        amod\n",
      "           ,       PUNCT       punct\n",
      "         Ivy       PROPN    compound\n",
      "      League       PROPN    compound\n",
      "  university        NOUN        attr\n",
      "         and       CCONJ          cc\n",
      "         the         DET         det\n",
      "        land        NOUN    compound\n",
      "           -       PUNCT       punct\n",
      "       grant        NOUN    compound\n",
      "  university        NOUN        conj\n",
      "         for         ADP        prep\n",
      "         New       PROPN    compound\n",
      "        York       PROPN    compound\n",
      "       state        NOUN        pobj\n",
      "           .       PUNCT       punct\n"
     ]
    }
   ],
   "source": [
    "# Print tokens, POS tags, and dependency info\n",
    "fmt = \"{:>12}\"*3 # three, right-justified, 12-character-wide columns\n",
    "for token in doc:\n",
    "    print(fmt.format(token.text, token.pos_, token.dep_))"
   ]
  },
  {
   "cell_type": "code",
   "execution_count": 4,
   "metadata": {
    "tags": []
   },
   "outputs": [
    {
     "name": "stdout",
     "output_type": "stream",
     "text": [
      "Root: is\n",
      "Subject: Cornell\n"
     ]
    }
   ],
   "source": [
    "# get the root, subject, and direct object of the example sentence\n",
    "for sent in doc.sents:\n",
    "    root = sent.root\n",
    "    subject = None\n",
    "    dir_obj = None\n",
    "    for child in root.children:\n",
    "        if child.dep_ == 'nsubj':\n",
    "            subject = child\n",
    "        if child.dep_ == 'dobj':\n",
    "            dir_obj = child\n",
    "    print(\"Root:\", root)\n",
    "    if subject:\n",
    "        print(\"Subject:\", subject)\n",
    "    if dir_obj:\n",
    "        print(\"Direct object:\", dir_obj)"
   ]
  },
  {
   "cell_type": "code",
   "execution_count": 5,
   "metadata": {
    "tags": []
   },
   "outputs": [
    {
     "data": {
      "text/plain": [
       "'object of preposition'"
      ]
     },
     "execution_count": 5,
     "metadata": {},
     "output_type": "execute_result"
    }
   ],
   "source": [
    "# explain a tag\n",
    "spacy.explain('pobj')"
   ]
  },
  {
   "cell_type": "markdown",
   "metadata": {},
   "source": [
    "Think about why you might want to navigate a dependency tree like this ..."
   ]
  },
  {
   "cell_type": "markdown",
   "metadata": {},
   "source": [
    "#### Lemmas and POS tags"
   ]
  },
  {
   "cell_type": "code",
   "execution_count": 6,
   "metadata": {
    "tags": []
   },
   "outputs": [
    {
     "name": "stdout",
     "output_type": "stream",
     "text": [
      "     Cornell         NNP     Cornell\n",
      "          is         VBZ          be\n",
      "           a          DT           a\n",
      "     private          JJ     private\n",
      "           ,           ,           ,\n",
      "         Ivy         NNP         Ivy\n",
      "      League         NNP      League\n",
      "  university          NN  university\n",
      "         and          CC         and\n",
      "         the          DT         the\n",
      "        land          NN        land\n",
      "           -        HYPH           -\n",
      "       grant          NN       grant\n",
      "  university          NN  university\n",
      "         for          IN         for\n",
      "         New         NNP         New\n",
      "        York         NNP        York\n",
      "       state          NN       state\n",
      "           .           .           .\n"
     ]
    }
   ],
   "source": [
    "# Gets lemmas and POS tags\n",
    "for token in doc:\n",
    "    print(fmt.format(token.text, token.tag_, token.lemma_))"
   ]
  },
  {
   "cell_type": "markdown",
   "metadata": {},
   "source": [
    "Note that lemmatization is a useful preprocessing step during vectorization. Think about how you would write a preprocessing function using `spaCy` that would integrate with an `sklearn` vectorizer via the `preprocessor` option."
   ]
  },
  {
   "cell_type": "markdown",
   "metadata": {},
   "source": [
    "#### Named entities\n",
    "\n",
    "Entities aren't strictly token-level properties, so we don't retrieve them by calls to the proerties of individual tokens. Instead, we iterate over `doc.ents`."
   ]
  },
  {
   "cell_type": "code",
   "execution_count": 7,
   "metadata": {
    "tags": []
   },
   "outputs": [
    {
     "name": "stdout",
     "output_type": "stream",
     "text": [
      "     Cornell         ORG            \n",
      "    New York         GPE            \n"
     ]
    }
   ],
   "source": [
    "# Entities\n",
    "for ent in doc.ents:\n",
    "    print(fmt.format(ent.text, ent.label_, ''))"
   ]
  },
  {
   "cell_type": "markdown",
   "metadata": {},
   "source": [
    "You can see the full set of [named entity types](https://spacy.io/models/en) in SpaCy's documentation. Briefly, in addition to `ORG`s and `GPE`s, there are also `LOC`ations, `PERSON`s, `DATE`s and `TIME`s, `MONEY`, and a few more."
   ]
  },
  {
   "cell_type": "code",
   "execution_count": 8,
   "metadata": {
    "tags": []
   },
   "outputs": [
    {
     "data": {
      "text/html": [
       "<span class=\"tex2jax_ignore\"><div class=\"entities\" style=\"line-height: 2.5; direction: ltr\">\n",
       "<mark class=\"entity\" style=\"background: #7aecec; padding: 0.45em 0.6em; margin: 0 0.25em; line-height: 1; border-radius: 0.35em;\">\n",
       "    Cornell\n",
       "    <span style=\"font-size: 0.8em; font-weight: bold; line-height: 1; border-radius: 0.35em; vertical-align: middle; margin-left: 0.5rem\">ORG</span>\n",
       "</mark>\n",
       " is a private, Ivy League university and the land-grant university for \n",
       "<mark class=\"entity\" style=\"background: #feca74; padding: 0.45em 0.6em; margin: 0 0.25em; line-height: 1; border-radius: 0.35em;\">\n",
       "    New York\n",
       "    <span style=\"font-size: 0.8em; font-weight: bold; line-height: 1; border-radius: 0.35em; vertical-align: middle; margin-left: 0.5rem\">GPE</span>\n",
       "</mark>\n",
       " state.</div></span>"
      ],
      "text/plain": [
       "<IPython.core.display.HTML object>"
      ]
     },
     "metadata": {},
     "output_type": "display_data"
    }
   ],
   "source": [
    "# Visualize entities in context\n",
    "from spacy import displacy\n",
    "displacy.render(doc, style='ent') # Entities"
   ]
  },
  {
   "cell_type": "markdown",
   "metadata": {},
   "source": [
    "#### Noun chunks\n",
    "\n",
    "A noun chunk (also called a \"noun phrase\") is one or more of words in sequence that collectively behave like a noun. Typically, they contain a noun plus one or more adjectives and determiners."
   ]
  },
  {
   "cell_type": "code",
   "execution_count": 9,
   "metadata": {
    "tags": []
   },
   "outputs": [
    {
     "name": "stdout",
     "output_type": "stream",
     "text": [
      "Cornell\n",
      "a private, Ivy League university\n",
      "the land-grant university\n",
      "New York state\n"
     ]
    }
   ],
   "source": [
    "# Noun chunks\n",
    "for chunk in doc.noun_chunks:\n",
    "    print(chunk)"
   ]
  },
  {
   "cell_type": "markdown",
   "metadata": {},
   "source": [
    "## Create a feature matrix\n",
    "\n",
    "Let's use these new features as, well, *features* like the token counts produced by `CountVectorizer`.\n",
    "\n",
    "From just three (very) short stories, we're going to collect counts of all the distinct named entities and parts of speech, as well as the total length of each document. Then, we'll turn that data into a document-feature matrix.\n",
    "\n",
    "Here's what one of the stories looks like:\n",
    "\n",
    "> From Austin, we headed west. For two weeks, my best friend and I were on a journey of self-exploration, an adventure through the vast American landscape that would find us in a multicolored haze, and an event that would bond us for life. All of this came about because of one thing: a burrito so good we had to drive to California to get it. If it weren’t for that burrito we wouldn’t have found ourselves in a purple sunset, sitting on the edge of the Grand Canyon with a question that would change our lives forever. She said yes."
   ]
  },
  {
   "cell_type": "code",
   "execution_count": 10,
   "metadata": {
    "tags": []
   },
   "outputs": [
    {
     "data": {
      "text/plain": [
       "[defaultdict(int,\n",
       "             {'wordcount': 115,\n",
       "              'Austin__GPE': 1,\n",
       "              'two weeks__DATE': 1,\n",
       "              'American__NORP': 1,\n",
       "              'one__CARDINAL': 1,\n",
       "              'California__GPE': 1,\n",
       "              'the Grand Canyon__LOC': 1,\n",
       "              'ADP': 16,\n",
       "              'PROPN': 4,\n",
       "              'PUNCT': 12,\n",
       "              'PRON': 17,\n",
       "              'VERB': 12,\n",
       "              'NOUN': 18,\n",
       "              'NUM': 2,\n",
       "              'ADJ': 5,\n",
       "              'CCONJ': 2,\n",
       "              'AUX': 7,\n",
       "              'DET': 11,\n",
       "              'SCONJ': 2,\n",
       "              'ADV': 2,\n",
       "              'PART': 4,\n",
       "              'INTJ': 1}),\n",
       " defaultdict(int,\n",
       "             {'wordcount': 126,\n",
       "              'the eve__DATE': 1,\n",
       "              'Andrew__PERSON': 1,\n",
       "              'English__LANGUAGE': 2,\n",
       "              'Scott__ORG': 1,\n",
       "              'American__NORP': 2,\n",
       "              'triangle__ORG': 1,\n",
       "              'three__CARDINAL': 1,\n",
       "              'Scott__PERSON': 1,\n",
       "              'ADP': 13,\n",
       "              'DET': 10,\n",
       "              'NOUN': 27,\n",
       "              'ADJ': 7,\n",
       "              'PUNCT': 23,\n",
       "              'PRON': 13,\n",
       "              'VERB': 14,\n",
       "              'PROPN': 5,\n",
       "              'ADV': 5,\n",
       "              'AUX': 3,\n",
       "              'PART': 1,\n",
       "              'CCONJ': 3,\n",
       "              'NUM': 1,\n",
       "              'SCONJ': 1}),\n",
       " defaultdict(int,\n",
       "             {'wordcount': 114,\n",
       "              'Idaho__GPE': 1,\n",
       "              'winter__DATE': 1,\n",
       "              'Sumner__PERSON': 1,\n",
       "              'first night__TIME': 1,\n",
       "              'Fifteen minutes later__TIME': 1,\n",
       "              'PRON': 14,\n",
       "              'VERB': 20,\n",
       "              'ADP': 7,\n",
       "              'PROPN': 2,\n",
       "              'NOUN': 17,\n",
       "              'PART': 7,\n",
       "              'PUNCT': 14,\n",
       "              'ADJ': 5,\n",
       "              'AUX': 9,\n",
       "              'DET': 9,\n",
       "              'CCONJ': 2,\n",
       "              'SCONJ': 3,\n",
       "              'ADV': 4,\n",
       "              'NUM': 1})]"
      ]
     },
     "metadata": {},
     "output_type": "display_data"
    }
   ],
   "source": [
    "# Three tiny love stories from the New York Times\n",
    "# See https://www.nytimes.com/column/modern-love\n",
    "\n",
    "from collections import defaultdict\n",
    "\n",
    "stories = {\n",
    "    'burrito':\"\"\"From Austin, we headed west. For two weeks, my best friend and I were on a journey of self-exploration, an adventure through the vast American landscape that would find us in a multicolored haze, and an event that would bond us for life. All of this came about because of one thing: a burrito so good we had to drive to California to get it. If it weren’t for that burrito we wouldn’t have found ourselves in a purple sunset, sitting on the edge of the Grand Canyon with a question that would change our lives forever. She said yes.\"\"\",\n",
    "    'tripod':\"\"\"On the eve of the new millennium, I fell in love with Andrew, a dashing English ad executive. Inconveniently, I didn’t fall out of love with Scott, an American architectural photographer and my longtime partner. Our dilemma resulted in an unexpected and enduring romance: a V-shaped love triangle sans vows and offspring. Born English, now a naturalized American, I am the hinge in our harmonious household of three: I sleep with both men, they each sleep only with me. We share everything else: home, finances, friends, vacations, life-threatening calamities. As Scott says, our tripod is more stable than a bipod.\"\"\",\n",
    "    'skating':\"\"\"I flew to Idaho over winter break to see Sumner’s hometown. Our first night, we went skating on a frozen pond, surrounded by snow. I was nervous. I didn’t play sports growing up, and I hadn’t ice skated since I was a child. He circled the pond, not showing off, simply enjoying the movement. I’ll never forget the stars piercing the darkness and the shadowy outline of the towering mountains. Fifteen minutes later, I realized I had forgotten that I was supposed to learn how to skate; I had just been watching him the whole time.\"\"\"\n",
    "}\n",
    "\n",
    "story_data = []\n",
    "\n",
    "for story in stories:\n",
    "    counts = defaultdict(int)\n",
    "    doc = nlp(stories[story])\n",
    "    counts['wordcount'] = len(doc) #\n",
    "    for entity in doc.ents:\n",
    "        counts[entity.text+'__'+entity.label_] += 1\n",
    "    for token in doc:\n",
    "        counts[token.pos_] += 1\n",
    "    story_data.append(counts)\n",
    "\n",
    "display(story_data)"
   ]
  },
  {
   "cell_type": "code",
   "execution_count": 11,
   "metadata": {
    "tags": []
   },
   "outputs": [
    {
     "data": {
      "text/plain": [
       "array([[  5.,  16.,   2.,   7.,   1.,   0.,   1.,   2.,   1.,  11.,   0.,\n",
       "          0.,   1.,   0.,  18.,   2.,   4.,  17.,   4.,  12.,   2.,   0.,\n",
       "          0.,   0.,  12.,   0.,   1.,   1.,   0.,   0.,   0.,   1.,   0.,\n",
       "        115.],\n",
       "       [  7.,  13.,   5.,   3.,   2.,   1.,   0.,   3.,   0.,  10.,   2.,\n",
       "          0.,   0.,   0.,  27.,   1.,   1.,  13.,   5.,  23.,   1.,   1.,\n",
       "          1.,   0.,  14.,   0.,   0.,   0.,   1.,   1.,   1.,   0.,   0.,\n",
       "        126.],\n",
       "       [  5.,   7.,   4.,   9.,   0.,   0.,   0.,   2.,   0.,   9.,   0.,\n",
       "          1.,   0.,   1.,  17.,   1.,   7.,  14.,   2.,  14.,   3.,   0.,\n",
       "          0.,   1.,  20.,   1.,   0.,   0.,   0.,   0.,   0.,   0.,   1.,\n",
       "        114.]])"
      ]
     },
     "metadata": {},
     "output_type": "display_data"
    },
    {
     "data": {
      "text/plain": [
       "array(['ADJ', 'ADP', 'ADV', 'AUX', 'American__NORP', 'Andrew__PERSON',\n",
       "       'Austin__GPE', 'CCONJ', 'California__GPE', 'DET',\n",
       "       'English__LANGUAGE', 'Fifteen minutes later__TIME', 'INTJ',\n",
       "       'Idaho__GPE', 'NOUN', 'NUM', 'PART', 'PRON', 'PROPN', 'PUNCT',\n",
       "       'SCONJ', 'Scott__ORG', 'Scott__PERSON', 'Sumner__PERSON', 'VERB',\n",
       "       'first night__TIME', 'one__CARDINAL', 'the Grand Canyon__LOC',\n",
       "       'the eve__DATE', 'three__CARDINAL', 'triangle__ORG',\n",
       "       'two weeks__DATE', 'winter__DATE', 'wordcount'], dtype=object)"
      ]
     },
     "metadata": {},
     "output_type": "display_data"
    }
   ],
   "source": [
    "from sklearn.feature_extraction import DictVectorizer\n",
    "\n",
    "vectorizer = DictVectorizer(sparse=False)\n",
    "X = vectorizer.fit_transform(story_data)\n",
    "display(X)\n",
    "display(vectorizer.get_feature_names_out())"
   ]
  },
  {
   "cell_type": "code",
   "execution_count": 12,
   "metadata": {
    "tags": []
   },
   "outputs": [
    {
     "data": {
      "text/plain": [
       "(3, 34)"
      ]
     },
     "execution_count": 12,
     "metadata": {},
     "output_type": "execute_result"
    }
   ],
   "source": [
    "X.shape"
   ]
  },
  {
   "cell_type": "code",
   "execution_count": 13,
   "metadata": {
    "tags": []
   },
   "outputs": [
    {
     "data": {
      "text/plain": [
       "array([[1., 1., 0., 1.],\n",
       "       [0., 0., 0., 0.],\n",
       "       [0., 0., 1., 0.]])"
      ]
     },
     "metadata": {},
     "output_type": "display_data"
    },
    {
     "data": {
      "text/plain": [
       "['Austin__GPE', 'California__GPE', 'Idaho__GPE', 'the Grand Canyon__LOC']"
      ]
     },
     "metadata": {},
     "output_type": "display_data"
    }
   ],
   "source": [
    "# Select just the GPEs and LOCs, as a sub-example\n",
    "vocab = vectorizer.vocabulary_ # mapping features to index positions\n",
    "\n",
    "# Find indices of places in feature matrix\n",
    "# Iterate over feature names, saving index positions for features that have GPE or LOC in their name\n",
    "idx = [vocab[feature] for feature in vectorizer.feature_names_ if '__GPE' in feature or '__LOC' in feature]\n",
    "# Get feature names in the desired index positions\n",
    "place_names = [vectorizer.get_feature_names_out()[i] for i in idx]\n",
    "# Restrict feature matrix to desired columns\n",
    "X_place = X[:,idx] # <- all rows, columns from list\n",
    "display(X_place)\n",
    "display(place_names)"
   ]
  },
  {
   "cell_type": "markdown",
   "metadata": {},
   "source": [
    "## Mixed features\n",
    "\n",
    "* If we care about these individual features, we can proceed to analyze them (see Soni et al. and Wilkens et al., for example)\n",
    "* If we want to use any of these features (*n*-grams, POS counts, entities, whatever) *instead* of token unigrams as part of another workflow (classification, say), we can do that.\n",
    "    * And we can compare the resulting accuracy to that achieved with unigram counts\n",
    "    * Note that we'll still want to scale features, reduce dimensions, select most-informative features, examine feature importances, and so on\n",
    "    * The point is that these *are features* just like unigram counts\n",
    "        * They may (or may not) behave differently in practice (there are relatively few POS types, for instance, so their counts are often higher than wordcounts), but *as features*, we compute with them in just the same way\n",
    "* Maybe best of all, we can use any of these features, or even non-textual features, *alongside* unigram counts\n",
    "    * We can do this as part of feature engineering for classification\n",
    "        * Task is to find the best mix of features for our classification problem\n",
    "    * Or we can specify the feature mix in advance for unsupervised problems\n",
    "        * As always, for unsupervised tasks, we have to specify in advance the set of maximally relevant features"
   ]
  },
  {
   "cell_type": "markdown",
   "metadata": {},
   "source": [
    "### Side note: stacking arrays\n",
    "\n",
    "To join features from different matrices, you can use `numpy`'s `hstack` method, like so: "
   ]
  },
  {
   "cell_type": "code",
   "execution_count": 14,
   "metadata": {
    "tags": []
   },
   "outputs": [
    {
     "name": "stdout",
     "output_type": "stream",
     "text": [
      "a\n",
      " [[0. 0.]\n",
      " [0. 0.]\n",
      " [0. 0.]]\n",
      "\n",
      "b\n",
      " [[1. 1.]\n",
      " [1. 1.]\n",
      " [1. 1.]]\n",
      "\n",
      "c (stacked)\n",
      " [[0. 0. 1. 1.]\n",
      " [0. 0. 1. 1.]\n",
      " [0. 0. 1. 1.]]\n"
     ]
    }
   ],
   "source": [
    "import numpy as np\n",
    "\n",
    "# Synthetic data\n",
    "a = np.array(np.zeros(6)).reshape(3,2)\n",
    "print('a\\n',a)\n",
    "\n",
    "b = np.array(np.ones(6)).reshape(3,2)\n",
    "print('\\nb\\n', b)\n",
    "\n",
    "c = np.hstack([a,b])\n",
    "print('\\nc (stacked)\\n', c)"
   ]
  },
  {
   "cell_type": "code",
   "execution_count": 15,
   "metadata": {
    "tags": []
   },
   "outputs": [
    {
     "name": "stdout",
     "output_type": "stream",
     "text": [
      "[[  5.  16.   2.   7.   1.   0.   1.   2.   1.  11.   0.   0.   1.   0.\n",
      "   18.   2.   4.  17.   4.  12.   2.   0.   0.   0.  12.   0.   1.   1.\n",
      "    0.   0.   0.   1.   0. 115.   0.   0.]\n",
      " [  7.  13.   5.   3.   2.   1.   0.   3.   0.  10.   2.   0.   0.   0.\n",
      "   27.   1.   1.  13.   5.  23.   1.   1.   1.   0.  14.   0.   0.   0.\n",
      "    1.   1.   1.   0.   0. 126.   0.   0.]\n",
      " [  5.   7.   4.   9.   0.   0.   0.   2.   0.   9.   0.   1.   0.   1.\n",
      "   17.   1.   7.  14.   2.  14.   3.   0.   0.   1.  20.   1.   0.   0.\n",
      "    0.   0.   0.   0.   1. 114.   0.   0.]]\n"
     ]
    }
   ],
   "source": [
    "# Add synthetic data columns to right side of feature array\n",
    "X_stacked = np.hstack([X,a])\n",
    "print(X_stacked)"
   ]
  },
  {
   "cell_type": "markdown",
   "metadata": {},
   "source": [
    "Note that you need to keep track of your feature names when you do this. The vectorizer object will still give you the names of the columns that it produced, but you might now have multiple vectorizers, each of which is responsible for part of your stacked feature matrix. This isn't a problem, but be aware that you'll need to deal with it. \n",
    "\n",
    "Of course, you need to have ordered your documents in the same way through each of the different vectorization steps if you're going to stack them as we've done here (so that you aren't mixing features from different documents within each row of the feature matrix). If you're using Pandas (rather than NumPy) to store your features, you could use `join` or `merge` to make sure that your feature data is proerly aligned by object identifier."
   ]
  },
  {
   "cell_type": "code",
   "execution_count": null,
   "metadata": {},
   "outputs": [],
   "source": []
  }
 ],
 "metadata": {
  "kernelspec": {
   "display_name": "Python 3 (ipykernel)",
   "language": "python",
   "name": "python3"
  },
  "language_info": {
   "codemirror_mode": {
    "name": "ipython",
    "version": 3
   },
   "file_extension": ".py",
   "mimetype": "text/x-python",
   "name": "python",
   "nbconvert_exporter": "python",
   "pygments_lexer": "ipython3",
   "version": "3.11.9"
  }
 },
 "nbformat": 4,
 "nbformat_minor": 4
}
